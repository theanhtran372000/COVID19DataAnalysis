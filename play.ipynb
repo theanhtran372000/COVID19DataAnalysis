{
 "cells": [
  {
   "cell_type": "code",
   "execution_count": 1,
   "metadata": {},
   "outputs": [],
   "source": [
    "from bs4 import BeautifulSoup\n",
    "import urllib.request\n",
    "import re"
   ]
  },
  {
   "cell_type": "code",
   "execution_count": 29,
   "metadata": {},
   "outputs": [],
   "source": [
    "\n",
    "url =  'https://www.worldometers.info/coronavirus/country/brazil/'\n",
    "page = urllib.request.urlopen(url)\n",
    "soup = BeautifulSoup(page, 'html.parser')"
   ]
  },
  {
   "attachments": {},
   "cell_type": "markdown",
   "metadata": {},
   "source": [
    "**Filter scripts that have data**"
   ]
  },
  {
   "cell_type": "code",
   "execution_count": 30,
   "metadata": {},
   "outputs": [],
   "source": [
    "allScripts = soup.findAll('script')\n",
    "\n",
    "filteredScripts = []\n",
    "\n",
    "for script in allScripts:\n",
    "    if 'Highcharts.chart' in script.text:\n",
    "        filteredScripts.append(script)"
   ]
  },
  {
   "cell_type": "code",
   "execution_count": 31,
   "metadata": {},
   "outputs": [],
   "source": [
    "for i, script in enumerate(filteredScripts):\n",
    "    with open('script{}.txt'.format(i), 'w') as f:\n",
    "        f.write(script.text)"
   ]
  },
  {
   "attachments": {},
   "cell_type": "markdown",
   "metadata": {},
   "source": [
    "**Filter table name**"
   ]
  },
  {
   "cell_type": "code",
   "execution_count": 5,
   "metadata": {},
   "outputs": [],
   "source": [
    "def get_table_name(script):\n",
    "    text = script.text\n",
    "    \n",
    "    keyword = 'Highcharts.chart\\('\n",
    "    start_indexs = [m.start() for m in re.finditer(keyword, text)]\n",
    "    \n",
    "    names = []\n",
    "    for start_index in start_indexs:\n",
    "        end_index = text.find(',', start_index + len(keyword))\n",
    "    \n",
    "        names.append(text[start_index + len(keyword) : end_index - 1])\n",
    "\n",
    "    return names\n",
    "    "
   ]
  },
  {
   "cell_type": "code",
   "execution_count": 6,
   "metadata": {},
   "outputs": [
    {
     "name": "stdout",
     "output_type": "stream",
     "text": [
      "['total-currently-infected-linear']\n",
      "['deaths-cured-outcome-small']\n",
      "['coronavirus-cases-linear', 'coronavirus-cases-log']\n",
      "['graph-cases-daily']\n",
      "['graph-active-cases-total']\n",
      "['coronavirus-deaths-linear', 'coronavirus-deaths-log']\n",
      "['graph-deaths-daily']\n",
      "['cases-cured-daily']\n",
      "['deaths-cured-outcome']\n"
     ]
    }
   ],
   "source": [
    "for script in filteredScripts:\n",
    "    print(get_table_name(script))"
   ]
  },
  {
   "attachments": {},
   "cell_type": "markdown",
   "metadata": {},
   "source": [
    "**Filter x data**"
   ]
  },
  {
   "cell_type": "code",
   "execution_count": null,
   "metadata": {},
   "outputs": [],
   "source": [
    "# Convert Jul 21, 2022 -> real datetime"
   ]
  },
  {
   "cell_type": "code",
   "execution_count": 26,
   "metadata": {},
   "outputs": [
    {
     "name": "stdout",
     "output_type": "stream",
     "text": [
      "Len list:  1\n",
      "Sample: \n",
      "Feb 15, 2020\n",
      "Feb 16, 2020\n",
      "Feb 17, 2020\n",
      "Feb 18, 2020\n",
      "Feb 19, 2020\n",
      "Feb 20, 2020\n",
      "Feb 21, 2020\n",
      "Feb 22, 2020\n",
      "Feb 23, 2020\n",
      "Feb 24, 2020\n"
     ]
    }
   ],
   "source": [
    "def get_x_data(script):\n",
    "    text = script.text\n",
    "    \n",
    "    keyword = 'xAxis'\n",
    "    start_indexs = [m.start() for m in re.finditer(keyword, text)]\n",
    "    \n",
    "    dates = []\n",
    "    for start_index in start_indexs:\n",
    "        index_1 = text.find('[', start_index + len(keyword))\n",
    "        index_2 = text.find(']', start_index + len(keyword))\n",
    "\n",
    "        data = text[index_1 + 1 : index_2]\n",
    "        data = [d for d in data.split('\"') if d != ',' and d != \"\"]\n",
    "        dates.append(data)\n",
    "    \n",
    "    return dates\n",
    "    \n",
    "dates = get_x_data(filteredScripts[0])\n",
    "print('Len list: ', len(dates))\n",
    "print('Sample: ')\n",
    "for i in range(10):\n",
    "    print(dates[0][i])"
   ]
  },
  {
   "cell_type": "code",
   "execution_count": 21,
   "metadata": {},
   "outputs": [
    {
     "name": "stdout",
     "output_type": "stream",
     "text": [
      "Len list:  1\n",
      "Sample: \n",
      "Feb 02, 2020\n",
      "Feb 03, 2020\n",
      "Feb 04, 2020\n",
      "Feb 05, 2020\n",
      "Feb 06, 2020\n",
      "Feb 07, 2020\n",
      "Feb 08, 2020\n",
      "Feb 09, 2020\n",
      "Feb 10, 2020\n",
      "Feb 11, 2020\n"
     ]
    }
   ],
   "source": [
    "dates = get_x_data(filteredScripts[1])\n",
    "print('Len list: ', len(dates))\n",
    "print('Sample: ')\n",
    "for i in range(10):\n",
    "    print(dates[0][i])"
   ]
  },
  {
   "cell_type": "code",
   "execution_count": 28,
   "metadata": {},
   "outputs": [
    {
     "name": "stdout",
     "output_type": "stream",
     "text": [
      "Len list:  2\n",
      "Sample: \n",
      "0.0\n",
      "0.0\n",
      "0.0\n",
      "0.0\n",
      "0.0\n",
      "0.0\n",
      "0.0\n",
      "0.0\n",
      "0.0\n",
      "0.0\n"
     ]
    }
   ],
   "source": [
    "def get_y_data(script):\n",
    "    text = script.text\n",
    "    \n",
    "    keyword = 'data'\n",
    "    start_indexs = [m.start() for m in re.finditer(keyword, text)]\n",
    "    \n",
    "    counts = []\n",
    "    for start_index in start_indexs:\n",
    "        index_1 = text.find('[', start_index + len(keyword))\n",
    "        index_2 = text.find(']', start_index + len(keyword))\n",
    "\n",
    "        data = text[index_1 + 1 : index_2]\n",
    "        nums = [float(d) for d in data.split(',')]\n",
    "        counts.append(nums)\n",
    "    \n",
    "    return counts\n",
    "\n",
    "counts = get_y_data(filteredScripts[0])\n",
    "print('Len list: ', len(counts))\n",
    "print('Sample: ')\n",
    "for i in range(10):\n",
    "    print(counts[0][i])"
   ]
  },
  {
   "attachments": {},
   "cell_type": "markdown",
   "metadata": {},
   "source": [
    "**Statistics**"
   ]
  },
  {
   "cell_type": "code",
   "execution_count": 1,
   "metadata": {},
   "outputs": [
    {
     "name": "stdout",
     "output_type": "stream",
     "text": [
      "Number of countries:  229\n"
     ]
    }
   ],
   "source": [
    "\n",
    "import os\n",
    "\n",
    "data_dir = 'assets/data'\n",
    "n_countries = len(os.listdir(data_dir))\n",
    "print('Number of countries: ', n_countries)\n",
    "    \n",
    "    "
   ]
  },
  {
   "cell_type": "code",
   "execution_count": 2,
   "metadata": {},
   "outputs": [
    {
     "name": "stdout",
     "output_type": "stream",
     "text": [
      "coronavirus-cases-linear: 229\n",
      "coronavirus-cases-log: 229\n",
      "coronavirus-deaths-linear: 223\n",
      "coronavirus-deaths-log: 223\n",
      "graph-active-cases-total: 210\n",
      "graph-cases-daily-1: 229\n",
      "graph-cases-daily-2: 229\n",
      "graph-cases-daily-3: 229\n",
      "graph-deaths-daily-1: 221\n",
      "graph-deaths-daily-2: 221\n",
      "graph-deaths-daily-3: 221\n",
      "cases-cured-daily-1: 25\n",
      "cases-cured-daily-2: 25\n",
      "deaths-cured-outcome-1: 25\n",
      "deaths-cured-outcome-2: 25\n",
      "deaths-cured-outcome-small-1: 26\n",
      "deaths-cured-outcome-small-2: 26\n",
      "total-currently-infected-linear: 16\n"
     ]
    }
   ],
   "source": [
    "cnts = {}\n",
    "for country in os.listdir(data_dir):\n",
    "    for table in os.listdir(os.path.join(data_dir, country)):\n",
    "        name = table[:-4]\n",
    "        if name not in cnts:\n",
    "            cnts[name] = 1\n",
    "        else:\n",
    "            cnts[name] += 1\n",
    "            \n",
    "for k, v in list(cnts.items()):\n",
    "    print('{}: {}'.format(k, v))\n",
    "    "
   ]
  },
  {
   "attachments": {},
   "cell_type": "markdown",
   "metadata": {},
   "source": [
    "**Preporcess data**"
   ]
  },
  {
   "cell_type": "code",
   "execution_count": 4,
   "metadata": {},
   "outputs": [
    {
     "data": {
      "text/plain": [
       "'15/02/2020'"
      ]
     },
     "execution_count": 4,
     "metadata": {},
     "output_type": "execute_result"
    }
   ],
   "source": [
    "# Convert datetime\n",
    "import datetime\n",
    "tbk = 'Feb 15, 2020'\n",
    "tbk = datetime.datetime.strptime(tbk, '%b %d, %Y').strftime('%d/%m/%Y')\n",
    "tbk"
   ]
  },
  {
   "cell_type": "code",
   "execution_count": 5,
   "metadata": {},
   "outputs": [],
   "source": [
    "def format_time(t):\n",
    "    return datetime.datetime.strptime(t, '%b %d, %Y').strftime('%d/%m/%Y')"
   ]
  },
  {
   "cell_type": "code",
   "execution_count": 25,
   "metadata": {},
   "outputs": [],
   "source": [
    "def to_date(s):\n",
    "    return datetime.datetime.strptime(s, '%b %d, %Y')\n",
    "\n",
    "def to_str(d):\n",
    "    return d.strftime('%d/%m/%Y')"
   ]
  },
  {
   "cell_type": "code",
   "execution_count": 10,
   "metadata": {},
   "outputs": [],
   "source": [
    "import os\n",
    "\n",
    "data_dir = 'assets/data'\n",
    "\n",
    "countries = os.listdir(data_dir)\n",
    "\n",
    "required = [\n",
    "    'coronavirus-cases-linear',\n",
    "    'coronavirus-deaths-linear',\n",
    "    'graph-active-cases-total',\n",
    "    'graph-cases-daily-1',\n",
    "    'graph-deaths-daily-1'\n",
    "]\n",
    "\n",
    "filtered_countries = []\n",
    "for country in countries:\n",
    "    tables = [t[:-4] for t in os.listdir(os.path.join(data_dir, country))]\n",
    "    if all([r in tables for r in required]):\n",
    "        filtered_countries.append(country)"
   ]
  },
  {
   "cell_type": "code",
   "execution_count": 11,
   "metadata": {},
   "outputs": [
    {
     "data": {
      "text/plain": [
       "202"
      ]
     },
     "execution_count": 11,
     "metadata": {},
     "output_type": "execute_result"
    }
   ],
   "source": [
    "len(filtered_countries)"
   ]
  },
  {
   "cell_type": "code",
   "execution_count": 15,
   "metadata": {},
   "outputs": [],
   "source": [
    "import pandas as pd\n",
    "\n",
    "date_list = []\n",
    "\n",
    "for country in filtered_countries:\n",
    "    for r in required:\n",
    "        path = os.path.join(data_dir, country, '{}.csv'.format(r))\n",
    "        df = pd.read_csv(path)\n",
    "        \n",
    "        date_list.extend(df['date'].to_list())\n",
    "\n",
    "date_list = sorted([to_date(d) for d in set(date_list)])\n",
    "        \n",
    "            "
   ]
  },
  {
   "cell_type": "code",
   "execution_count": 19,
   "metadata": {},
   "outputs": [
    {
     "data": {
      "text/plain": [
       "1112"
      ]
     },
     "execution_count": 19,
     "metadata": {},
     "output_type": "execute_result"
    }
   ],
   "source": [
    "len(date_list)"
   ]
  },
  {
   "cell_type": "code",
   "execution_count": 21,
   "metadata": {},
   "outputs": [
    {
     "data": {
      "text/plain": [
       "[datetime.datetime(2020, 1, 22, 0, 0),\n",
       " datetime.datetime(2020, 1, 23, 0, 0),\n",
       " datetime.datetime(2020, 1, 24, 0, 0),\n",
       " datetime.datetime(2020, 1, 25, 0, 0),\n",
       " datetime.datetime(2020, 1, 26, 0, 0),\n",
       " datetime.datetime(2020, 1, 27, 0, 0),\n",
       " datetime.datetime(2020, 1, 28, 0, 0),\n",
       " datetime.datetime(2020, 1, 29, 0, 0),\n",
       " datetime.datetime(2020, 1, 30, 0, 0),\n",
       " datetime.datetime(2020, 1, 31, 0, 0)]"
      ]
     },
     "execution_count": 21,
     "metadata": {},
     "output_type": "execute_result"
    }
   ],
   "source": [
    "date_list[0:10]"
   ]
  },
  {
   "cell_type": "code",
   "execution_count": 24,
   "metadata": {},
   "outputs": [
    {
     "data": {
      "text/plain": [
       "datetime.timedelta(days=1111)"
      ]
     },
     "execution_count": 24,
     "metadata": {},
     "output_type": "execute_result"
    }
   ],
   "source": [
    "date_list[-1] - date_list[0]"
   ]
  },
  {
   "cell_type": "code",
   "execution_count": null,
   "metadata": {},
   "outputs": [],
   "source": []
  }
 ],
 "metadata": {
  "kernelspec": {
   "display_name": "COVID",
   "language": "python",
   "name": "venv"
  },
  "language_info": {
   "codemirror_mode": {
    "name": "ipython",
    "version": 3
   },
   "file_extension": ".py",
   "mimetype": "text/x-python",
   "name": "python",
   "nbconvert_exporter": "python",
   "pygments_lexer": "ipython3",
   "version": "3.10.5"
  },
  "orig_nbformat": 4,
  "vscode": {
   "interpreter": {
    "hash": "67bdd53692923fa214cebb8ea68c1862c18ab74c5be02efebed96b777e6a4c2c"
   }
  }
 },
 "nbformat": 4,
 "nbformat_minor": 2
}
